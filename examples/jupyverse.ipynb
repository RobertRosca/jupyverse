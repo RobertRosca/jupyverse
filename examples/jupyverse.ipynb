{
 "cells": [
  {
   "cell_type": "code",
   "execution_count": null,
   "id": "4f2dbabd-a61c-4426-9f40-6a02cb511300",
   "metadata": {},
   "outputs": [],
   "source": [
    "from ipyurl import Url"
   ]
  },
  {
   "cell_type": "code",
   "execution_count": null,
   "id": "54f24cbd-19b0-4259-b26a-6c4ca2f0b57d",
   "metadata": {},
   "outputs": [],
   "source": [
    "w = Url()\n",
    "w"
   ]
  },
  {
   "cell_type": "code",
   "execution_count": null,
   "id": "acbef777-b9f4-40d4-b6f3-bfbb9ad8144e",
   "metadata": {},
   "outputs": [],
   "source": [
    "user_id = w.url.split(\"/user/\", 1)[1].strip(\"/\")\n",
    "host = \"127.0.0.1\"\n",
    "port = \"8005\""
   ]
  },
  {
   "cell_type": "code",
   "execution_count": null,
   "id": "ba2190b9-ccb7-4150-b223-f2145f223864",
   "metadata": {},
   "outputs": [],
   "source": [
    "print(f\"Execute the following cell and then open this URL: {w.url.strip('/')}/proxy/{host}:{port}/lab\")"
   ]
  },
  {
   "cell_type": "code",
   "execution_count": null,
   "id": "0c3150eb-c701-4ffa-974f-91b7ad2464c0",
   "metadata": {},
   "outputs": [],
   "source": [
    "!jupyverse --no-open-browser --authenticator.mode=noauth --JupyterLab.collaborative=true --JupyterLab.base_url=/user/{user_id}/proxy/{host}:{port}/ --port={port}"
   ]
  }
 ],
 "metadata": {
  "kernelspec": {
   "display_name": "Python 3 (ipykernel)",
   "language": "python",
   "name": "python3"
  },
  "language_info": {
   "codemirror_mode": {
    "name": "ipython",
    "version": 3
   },
   "file_extension": ".py",
   "mimetype": "text/x-python",
   "name": "python",
   "nbconvert_exporter": "python",
   "pygments_lexer": "ipython3",
   "version": "3.9.7"
  }
 },
 "nbformat": 4,
 "nbformat_minor": 5
}
