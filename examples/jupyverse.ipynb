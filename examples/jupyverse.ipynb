{
  "metadata": {
    "language_info": {
      "name": "python",
      "version": "3.9.7",
      "mimetype": "text/x-python",
      "codemirror_mode": {
        "name": "ipython",
        "version": 3
      },
      "pygments_lexer": "ipython3",
      "nbconvert_exporter": "python",
      "file_extension": ".py"
    },
    "kernelspec": {
      "name": "python3",
      "display_name": "Python 3 (ipykernel)",
      "language": "python"
    }
  },
  "nbformat_minor": 5,
  "nbformat": 4,
  "cells": [
    {
      "cell_type": "code",
      "source": "from ipyurl import Url",
      "metadata": {
        "trusted": true
      },
      "execution_count": null,
      "outputs": [],
      "id": "4f2dbabd-a61c-4426-9f40-6a02cb511300"
    },
    {
      "cell_type": "code",
      "source": "w = Url()\nw",
      "metadata": {
        "trusted": true
      },
      "execution_count": null,
      "outputs": [],
      "id": "54f24cbd-19b0-4259-b26a-6c4ca2f0b57d"
    },
    {
      "cell_type": "code",
      "source": "user_id = w.url.split(\"/user/\", 1)[1].strip(\"/\")",
      "metadata": {
        "trusted": true
      },
      "execution_count": null,
      "outputs": [],
      "id": "acbef777-b9f4-40d4-b6f3-bfbb9ad8144e"
    },
    {
      "cell_type": "code",
      "source": "print(\"Execute the following cell and then open a browser window to\", w.url.strip(\"/\") + \"/proxy/127.0.0.1:8005/lab\")",
      "metadata": {
        "trusted": true
      },
      "execution_count": null,
      "outputs": [],
      "id": "ba2190b9-ccb7-4150-b223-f2145f223864"
    },
    {
      "cell_type": "code",
      "source": "!jupyverse --no-open-browser --authenticator.disable_auth=true --JupyterLab.collaborative=true --JupyterLab.base_url=/user/{user_id}/proxy/127.0.0.1:8005/ --port=8005",
      "metadata": {
        "trusted": true
      },
      "execution_count": null,
      "outputs": [],
      "id": "0c3150eb-c701-4ffa-974f-91b7ad2464c0"
    }
  ]
}
